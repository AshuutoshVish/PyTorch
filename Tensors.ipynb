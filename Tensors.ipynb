{
 "cells": [
  {
   "cell_type": "code",
   "execution_count": 1,
   "id": "3efa0c8a-048c-4e60-a0b8-2f17ed1c2c81",
   "metadata": {},
   "outputs": [],
   "source": [
    "import torch"
   ]
  },
  {
   "cell_type": "code",
   "execution_count": 2,
   "id": "0ae4260c-95c3-4993-8b6b-d78d4292e661",
   "metadata": {},
   "outputs": [
    {
     "data": {
      "text/plain": [
       "'2.6.0+cpu'"
      ]
     },
     "execution_count": 2,
     "metadata": {},
     "output_type": "execute_result"
    }
   ],
   "source": [
    "torch.__version__"
   ]
  },
  {
   "cell_type": "code",
   "execution_count": 3,
   "id": "5e97c78f-df37-4aa5-b53b-8a7c2ec92183",
   "metadata": {},
   "outputs": [],
   "source": [
    "#Fundamentals of PyTorch"
   ]
  },
  {
   "cell_type": "code",
   "execution_count": 4,
   "id": "68f2ecba-e73d-4fc6-9b47-3804d3b2bd26",
   "metadata": {},
   "outputs": [],
   "source": [
    "#Scalar"
   ]
  },
  {
   "cell_type": "code",
   "execution_count": 5,
   "id": "f68d76d5-d2c9-4faa-b7d0-0e3fadfd50d7",
   "metadata": {},
   "outputs": [
    {
     "data": {
      "text/plain": [
       "tensor(7)"
      ]
     },
     "execution_count": 5,
     "metadata": {},
     "output_type": "execute_result"
    }
   ],
   "source": [
    "scalar=torch.tensor(7)\n",
    "scalar"
   ]
  },
  {
   "cell_type": "code",
   "execution_count": 6,
   "id": "05f12866-b77c-47d6-8603-71d60d5bfc2c",
   "metadata": {},
   "outputs": [
    {
     "data": {
      "text/plain": [
       "0"
      ]
     },
     "execution_count": 6,
     "metadata": {},
     "output_type": "execute_result"
    }
   ],
   "source": [
    "scalar.ndim"
   ]
  },
  {
   "cell_type": "code",
   "execution_count": 7,
   "id": "61565da3-e502-4109-8544-d3ea320e78e1",
   "metadata": {},
   "outputs": [
    {
     "data": {
      "text/plain": [
       "torch.Size([])"
      ]
     },
     "execution_count": 7,
     "metadata": {},
     "output_type": "execute_result"
    }
   ],
   "source": [
    "scalar.shape"
   ]
  },
  {
   "cell_type": "code",
   "execution_count": 8,
   "id": "e94732e2-135b-4ead-907d-d4b7e2a9fca5",
   "metadata": {},
   "outputs": [],
   "source": [
    "#Vectors"
   ]
  },
  {
   "cell_type": "code",
   "execution_count": 9,
   "id": "8c40b8f8-31bf-4d51-be5b-f6b0ee6c3d25",
   "metadata": {},
   "outputs": [],
   "source": [
    "vector=torch.tensor([1,2])"
   ]
  },
  {
   "cell_type": "code",
   "execution_count": 10,
   "id": "144c5266-bc9c-4ca3-a94c-2b3d6d541bfe",
   "metadata": {},
   "outputs": [
    {
     "data": {
      "text/plain": [
       "tensor([1, 2])"
      ]
     },
     "execution_count": 10,
     "metadata": {},
     "output_type": "execute_result"
    }
   ],
   "source": [
    "vector"
   ]
  },
  {
   "cell_type": "code",
   "execution_count": 11,
   "id": "4524c5b1-9752-4bcb-8b9e-6567af4a1598",
   "metadata": {},
   "outputs": [
    {
     "data": {
      "text/plain": [
       "1"
      ]
     },
     "execution_count": 11,
     "metadata": {},
     "output_type": "execute_result"
    }
   ],
   "source": [
    "vector.ndim"
   ]
  },
  {
   "cell_type": "code",
   "execution_count": 12,
   "id": "e2b76122-fc2a-4af5-903d-bd837ac236a4",
   "metadata": {},
   "outputs": [
    {
     "data": {
      "text/plain": [
       "torch.Size([2])"
      ]
     },
     "execution_count": 12,
     "metadata": {},
     "output_type": "execute_result"
    }
   ],
   "source": [
    "vector.shape"
   ]
  },
  {
   "cell_type": "code",
   "execution_count": 13,
   "id": "a0fd93cf-4b29-4763-8732-44321d7d7ccf",
   "metadata": {},
   "outputs": [],
   "source": [
    "#matrix"
   ]
  },
  {
   "cell_type": "code",
   "execution_count": 14,
   "id": "49e635b0-d188-4a25-ad6a-d0ac021f15ff",
   "metadata": {},
   "outputs": [
    {
     "data": {
      "text/plain": [
       "tensor([[1, 2, 3],\n",
       "        [4, 5, 6]])"
      ]
     },
     "execution_count": 14,
     "metadata": {},
     "output_type": "execute_result"
    }
   ],
   "source": [
    "matrix = torch.tensor([[1, 2, 3],\n",
    "                       [4, 5, 6]])\n",
    "matrix"
   ]
  },
  {
   "cell_type": "code",
   "execution_count": 15,
   "id": "1597583a-1073-466e-b2f7-3f1fca387124",
   "metadata": {},
   "outputs": [
    {
     "data": {
      "text/plain": [
       "2"
      ]
     },
     "execution_count": 15,
     "metadata": {},
     "output_type": "execute_result"
    }
   ],
   "source": [
    "matrix.ndim"
   ]
  },
  {
   "cell_type": "code",
   "execution_count": 16,
   "id": "4146e635-bd2b-4353-bbee-5ec6aa6cec5e",
   "metadata": {},
   "outputs": [
    {
     "data": {
      "text/plain": [
       "torch.Size([2, 3])"
      ]
     },
     "execution_count": 16,
     "metadata": {},
     "output_type": "execute_result"
    }
   ],
   "source": [
    "matrix.shape"
   ]
  },
  {
   "cell_type": "code",
   "execution_count": 17,
   "id": "f3a3448f-ddf1-4cb4-b8f1-e22e9c526acf",
   "metadata": {},
   "outputs": [
    {
     "data": {
      "text/plain": [
       "tensor([1, 2, 3])"
      ]
     },
     "execution_count": 17,
     "metadata": {},
     "output_type": "execute_result"
    }
   ],
   "source": [
    "matrix[0]"
   ]
  },
  {
   "cell_type": "code",
   "execution_count": 18,
   "id": "42a9bbab-aee1-46b0-8bd9-52ff1bc6f615",
   "metadata": {},
   "outputs": [
    {
     "data": {
      "text/plain": [
       "tensor([4, 5, 6])"
      ]
     },
     "execution_count": 18,
     "metadata": {},
     "output_type": "execute_result"
    }
   ],
   "source": [
    "matrix[1]"
   ]
  },
  {
   "cell_type": "code",
   "execution_count": 19,
   "id": "b0bc82c0-bc3e-4388-b625-335b9ed0d688",
   "metadata": {},
   "outputs": [],
   "source": [
    "#Tensors of n-dimensions"
   ]
  },
  {
   "cell_type": "code",
   "execution_count": 20,
   "id": "3cac7c63-f280-4d86-9248-cf96dd00e04f",
   "metadata": {},
   "outputs": [
    {
     "data": {
      "text/plain": [
       "tensor([[[1, 2, 3],\n",
       "         [2, 3, 4]],\n",
       "\n",
       "        [[5, 6, 7],\n",
       "         [7, 8, 9]]])"
      ]
     },
     "execution_count": 20,
     "metadata": {},
     "output_type": "execute_result"
    }
   ],
   "source": [
    "tensor_3d = torch.tensor([[[1, 2, 3], [2, 3, 4]], \n",
    "                          [[5, 6, 7], [7, 8, 9]]])\n",
    "tensor_3d"
   ]
  },
  {
   "cell_type": "code",
   "execution_count": 21,
   "id": "10241cb6-fa4e-4826-8846-b8c60586b19e",
   "metadata": {},
   "outputs": [
    {
     "data": {
      "text/plain": [
       "torch.Size([2, 2, 3])"
      ]
     },
     "execution_count": 21,
     "metadata": {},
     "output_type": "execute_result"
    }
   ],
   "source": [
    "tensor_3d.shape"
   ]
  },
  {
   "cell_type": "code",
   "execution_count": 22,
   "id": "9b09459d-7992-4513-a42b-5e562c614bb1",
   "metadata": {},
   "outputs": [
    {
     "data": {
      "text/plain": [
       "3"
      ]
     },
     "execution_count": 22,
     "metadata": {},
     "output_type": "execute_result"
    }
   ],
   "source": [
    "tensor_3d.ndim"
   ]
  },
  {
   "cell_type": "code",
   "execution_count": 23,
   "id": "a0881835-39e0-4713-b72f-da9781cc811e",
   "metadata": {},
   "outputs": [
    {
     "data": {
      "text/plain": [
       "tensor([2, 3, 4])"
      ]
     },
     "execution_count": 23,
     "metadata": {},
     "output_type": "execute_result"
    }
   ],
   "source": [
    "tensor_3d[0,1]"
   ]
  },
  {
   "cell_type": "code",
   "execution_count": 24,
   "id": "00aaace4-7ca6-42e1-b109-34de7d3a5373",
   "metadata": {},
   "outputs": [
    {
     "data": {
      "text/plain": [
       "tensor([7, 8, 9])"
      ]
     },
     "execution_count": 24,
     "metadata": {},
     "output_type": "execute_result"
    }
   ],
   "source": [
    "tensor_3d[1,1]"
   ]
  },
  {
   "cell_type": "code",
   "execution_count": 25,
   "id": "6b9dbc46-a35e-4157-8eb7-9d21abb98d8b",
   "metadata": {},
   "outputs": [
    {
     "data": {
      "text/plain": [
       "tensor(9)"
      ]
     },
     "execution_count": 25,
     "metadata": {},
     "output_type": "execute_result"
    }
   ],
   "source": [
    "tensor_3d[1,1,2]"
   ]
  },
  {
   "cell_type": "code",
   "execution_count": 26,
   "id": "00e232cc-0d8f-4b42-abc5-ed5bb8113670",
   "metadata": {},
   "outputs": [],
   "source": [
    "#Random tensors"
   ]
  },
  {
   "cell_type": "code",
   "execution_count": 27,
   "id": "cc6ee1ed-25d2-4c9f-af13-a4449c01c094",
   "metadata": {},
   "outputs": [
    {
     "data": {
      "text/plain": [
       "tensor([[[0.7799, 0.5615, 0.0074, 0.8126],\n",
       "         [0.3143, 0.0955, 0.0533, 0.8688],\n",
       "         [0.5561, 0.6471, 0.9055, 0.6391],\n",
       "         [0.6135, 0.3234, 0.8873, 0.8409]],\n",
       "\n",
       "        [[0.7697, 0.1925, 0.2159, 0.2501],\n",
       "         [0.0712, 0.8065, 0.0120, 0.4456],\n",
       "         [0.4178, 0.4393, 0.3629, 0.3277],\n",
       "         [0.0394, 0.2450, 0.6153, 0.5892]],\n",
       "\n",
       "        [[0.8095, 0.2681, 0.6662, 0.6241],\n",
       "         [0.0261, 0.3960, 0.9123, 0.1360],\n",
       "         [0.2855, 0.5978, 0.1017, 0.6924],\n",
       "         [0.0441, 0.6522, 0.0266, 0.9512]],\n",
       "\n",
       "        [[0.0111, 0.5711, 0.3223, 0.9727],\n",
       "         [0.6754, 0.0032, 0.5111, 0.2183],\n",
       "         [0.7139, 0.1247, 0.5665, 0.0217],\n",
       "         [0.6110, 0.0241, 0.7812, 0.9154]]])"
      ]
     },
     "execution_count": 27,
     "metadata": {},
     "output_type": "execute_result"
    }
   ],
   "source": [
    "random_t=torch.rand(4,4,4)\n",
    "random_t"
   ]
  },
  {
   "cell_type": "code",
   "execution_count": 28,
   "id": "2fec24e1-68ab-4adf-b379-4065cd662426",
   "metadata": {},
   "outputs": [
    {
     "data": {
      "text/plain": [
       "torch.Size([4, 4, 4])"
      ]
     },
     "execution_count": 28,
     "metadata": {},
     "output_type": "execute_result"
    }
   ],
   "source": [
    "random_t.shape"
   ]
  },
  {
   "cell_type": "code",
   "execution_count": 29,
   "id": "e56adac8-770b-46d9-a2c7-c0f3c7f68920",
   "metadata": {},
   "outputs": [
    {
     "data": {
      "text/plain": [
       "3"
      ]
     },
     "execution_count": 29,
     "metadata": {},
     "output_type": "execute_result"
    }
   ],
   "source": [
    "random_t.ndim"
   ]
  },
  {
   "cell_type": "code",
   "execution_count": 30,
   "id": "7e18dfde-9cac-431f-b44a-7f38379594a5",
   "metadata": {},
   "outputs": [],
   "source": [
    "#random size image"
   ]
  },
  {
   "cell_type": "code",
   "execution_count": 31,
   "id": "2734e1fb-94b1-4890-84e0-4f17a6a1e69d",
   "metadata": {},
   "outputs": [
    {
     "data": {
      "text/plain": [
       "torch.Size([144, 144, 3])"
      ]
     },
     "execution_count": 31,
     "metadata": {},
     "output_type": "execute_result"
    }
   ],
   "source": [
    "random_image_size_tensor = torch.rand(size=(144, 144, 3))\n",
    "random_image_size_tensor.shape"
   ]
  },
  {
   "cell_type": "code",
   "execution_count": 32,
   "id": "8d1a0122-26c4-4a94-8c10-7c0929c5292a",
   "metadata": {},
   "outputs": [
    {
     "data": {
      "text/plain": [
       "3"
      ]
     },
     "execution_count": 32,
     "metadata": {},
     "output_type": "execute_result"
    }
   ],
   "source": [
    "random_image_size_tensor.ndim"
   ]
  },
  {
   "cell_type": "code",
   "execution_count": 33,
   "id": "31333477-0423-40c5-83ba-64500740402c",
   "metadata": {},
   "outputs": [],
   "source": [
    "zeros=torch.zeros(3,4)"
   ]
  },
  {
   "cell_type": "code",
   "execution_count": 34,
   "id": "8705338e-5043-48bd-a91d-afc1e9721999",
   "metadata": {},
   "outputs": [
    {
     "data": {
      "text/plain": [
       "tensor([[0., 0., 0., 0.],\n",
       "        [0., 0., 0., 0.],\n",
       "        [0., 0., 0., 0.]])"
      ]
     },
     "execution_count": 34,
     "metadata": {},
     "output_type": "execute_result"
    }
   ],
   "source": [
    "zeros"
   ]
  },
  {
   "cell_type": "code",
   "execution_count": 35,
   "id": "e3ad1fcf-4d52-496e-941a-36ae88664d73",
   "metadata": {},
   "outputs": [
    {
     "data": {
      "text/plain": [
       "torch.float32"
      ]
     },
     "execution_count": 35,
     "metadata": {},
     "output_type": "execute_result"
    }
   ],
   "source": [
    "zeros.dtype"
   ]
  },
  {
   "cell_type": "code",
   "execution_count": 36,
   "id": "39376f46-c0b9-404e-af06-d67ee60fda4f",
   "metadata": {},
   "outputs": [],
   "source": [
    "one=torch.ones(3,4)"
   ]
  },
  {
   "cell_type": "code",
   "execution_count": 37,
   "id": "86a49da9-f5c2-4746-a2a5-3b0a3393215c",
   "metadata": {},
   "outputs": [
    {
     "data": {
      "text/plain": [
       "tensor([[1., 1., 1., 1.],\n",
       "        [1., 1., 1., 1.],\n",
       "        [1., 1., 1., 1.]])"
      ]
     },
     "execution_count": 37,
     "metadata": {},
     "output_type": "execute_result"
    }
   ],
   "source": [
    "one"
   ]
  },
  {
   "cell_type": "code",
   "execution_count": 38,
   "id": "09ecbb45-6474-44c7-ac66-88fe64f31450",
   "metadata": {},
   "outputs": [
    {
     "data": {
      "text/plain": [
       "torch.float32"
      ]
     },
     "execution_count": 38,
     "metadata": {},
     "output_type": "execute_result"
    }
   ],
   "source": [
    "one.dtype"
   ]
  },
  {
   "cell_type": "code",
   "execution_count": 39,
   "id": "12a41eaa-d495-4d7f-b742-3d893a36ee1d",
   "metadata": {},
   "outputs": [
    {
     "data": {
      "text/plain": [
       "tensor([ 4,  6,  8, 10, 12, 14, 16, 18, 20, 22, 24])"
      ]
     },
     "execution_count": 39,
     "metadata": {},
     "output_type": "execute_result"
    }
   ],
   "source": [
    "torch.arange(4,25,2)"
   ]
  },
  {
   "cell_type": "code",
   "execution_count": 40,
   "id": "5ee20b1d-d85f-4040-9e19-aca609606028",
   "metadata": {},
   "outputs": [],
   "source": [
    "#data type "
   ]
  },
  {
   "cell_type": "code",
   "execution_count": 41,
   "id": "e7877d22-3b4c-4055-bf95-ae1f4365e00d",
   "metadata": {},
   "outputs": [
    {
     "data": {
      "text/plain": [
       "tensor([[0.0316, 0.0676, 0.0243, 0.5247],\n",
       "        [0.5203, 0.7955, 0.8452, 0.7207],\n",
       "        [0.9814, 0.8438, 0.8298, 0.5274]])"
      ]
     },
     "execution_count": 41,
     "metadata": {},
     "output_type": "execute_result"
    }
   ],
   "source": [
    "some_tensor=torch.rand(3,4)\n",
    "some_tensor"
   ]
  },
  {
   "cell_type": "code",
   "execution_count": 42,
   "id": "95af4562-ba65-41fd-86f2-2c058d052af9",
   "metadata": {},
   "outputs": [
    {
     "name": "stdout",
     "output_type": "stream",
     "text": [
      "size of the tensor : torch.float32\n",
      "size of the tensor : torch.Size([3, 4])\n",
      "size of the tensor : cpu\n"
     ]
    }
   ],
   "source": [
    "print(f'size of the tensor : { some_tensor.dtype}')\n",
    "print(f'size of the tensor : { some_tensor.shape}')\n",
    "print(f'size of the tensor : { some_tensor.device}')"
   ]
  },
  {
   "cell_type": "code",
   "execution_count": 43,
   "id": "d5e5ecaa-8ece-4df4-9db7-4a6e17afb2fa",
   "metadata": {},
   "outputs": [],
   "source": [
    "#tensor_operation"
   ]
  },
  {
   "cell_type": "code",
   "execution_count": 44,
   "id": "8c7d2fd3-6486-4c22-9679-33f46ac78da4",
   "metadata": {},
   "outputs": [],
   "source": [
    "tensorA=torch.tensor([2,4,9])"
   ]
  },
  {
   "cell_type": "code",
   "execution_count": 45,
   "id": "8a90fa55-99d1-4ccc-994b-732e55e3d498",
   "metadata": {},
   "outputs": [
    {
     "data": {
      "text/plain": [
       "tensor([2, 4, 9])"
      ]
     },
     "execution_count": 45,
     "metadata": {},
     "output_type": "execute_result"
    }
   ],
   "source": [
    "tensorA"
   ]
  },
  {
   "cell_type": "code",
   "execution_count": 46,
   "id": "c3ad9ea8-0711-4304-8b64-fa1eedd4be79",
   "metadata": {},
   "outputs": [
    {
     "data": {
      "text/plain": [
       "tensor([10, 20, 45])"
      ]
     },
     "execution_count": 46,
     "metadata": {},
     "output_type": "execute_result"
    }
   ],
   "source": [
    "tensorA*5"
   ]
  },
  {
   "cell_type": "code",
   "execution_count": 47,
   "id": "e6440274-ce99-4d5b-8985-da399bb7ae71",
   "metadata": {},
   "outputs": [
    {
     "data": {
      "text/plain": [
       "tensor([ 7,  9, 14])"
      ]
     },
     "execution_count": 47,
     "metadata": {},
     "output_type": "execute_result"
    }
   ],
   "source": [
    "tensorA.add(5)"
   ]
  },
  {
   "cell_type": "code",
   "execution_count": 48,
   "id": "2a0f2f0a-9d40-4c50-9021-0f8249597e13",
   "metadata": {},
   "outputs": [
    {
     "data": {
      "text/plain": [
       "tensor([-8, -6, -1])"
      ]
     },
     "execution_count": 48,
     "metadata": {},
     "output_type": "execute_result"
    }
   ],
   "source": [
    "tensorA.sub(10)"
   ]
  },
  {
   "cell_type": "code",
   "execution_count": 49,
   "id": "aa623314-b3f0-479e-82ff-d97bc614cde4",
   "metadata": {},
   "outputs": [
    {
     "data": {
      "text/plain": [
       "tensor([0.4000, 0.8000, 1.8000])"
      ]
     },
     "execution_count": 49,
     "metadata": {},
     "output_type": "execute_result"
    }
   ],
   "source": [
    "tensorA.div(5)"
   ]
  },
  {
   "cell_type": "code",
   "execution_count": 50,
   "id": "8022533a-b8c4-4e2d-a6b3-f1c10cc512f4",
   "metadata": {},
   "outputs": [],
   "source": [
    "#Now Working On matrix"
   ]
  },
  {
   "cell_type": "code",
   "execution_count": 51,
   "id": "544d7f23-e86a-46fc-a2c4-f3e81f0c5e40",
   "metadata": {},
   "outputs": [],
   "source": [
    "tensor_A=torch.tensor([[2,3],\n",
    "                       [5,6],\n",
    "                       [8,9]])"
   ]
  },
  {
   "cell_type": "code",
   "execution_count": 52,
   "id": "4ffd9607-1ba9-44c5-9bd7-7052e19e3b7e",
   "metadata": {},
   "outputs": [],
   "source": [
    "tensor_B=torch.tensor([[9,8],\n",
    "                       [7,6],\n",
    "                       [5,4]])"
   ]
  },
  {
   "cell_type": "code",
   "execution_count": 53,
   "id": "15043b9c-ef58-4395-9676-094a7ff2993b",
   "metadata": {},
   "outputs": [],
   "source": [
    "tensor_C=torch.tensor([[5,6,7],\n",
    "                       [7,8,2]])"
   ]
  },
  {
   "cell_type": "code",
   "execution_count": 54,
   "id": "79f76767-f253-415c-a643-848a79b05794",
   "metadata": {},
   "outputs": [
    {
     "data": {
      "text/plain": [
       "(torch.Size([3, 2]), torch.Size([3, 2]), torch.Size([2, 3]))"
      ]
     },
     "execution_count": 54,
     "metadata": {},
     "output_type": "execute_result"
    }
   ],
   "source": [
    "tensor_A.shape, tensor_B.shape, tensor_C.shape"
   ]
  },
  {
   "cell_type": "code",
   "execution_count": 55,
   "id": "e004af40-9988-44cf-9ff3-8cdce38a2586",
   "metadata": {},
   "outputs": [
    {
     "data": {
      "text/plain": [
       "(tensor([[2, 3],\n",
       "         [5, 6],\n",
       "         [8, 9]]),\n",
       " tensor([[9, 8],\n",
       "         [7, 6],\n",
       "         [5, 4]]),\n",
       " tensor([[5, 6, 7],\n",
       "         [7, 8, 2]]))"
      ]
     },
     "execution_count": 55,
     "metadata": {},
     "output_type": "execute_result"
    }
   ],
   "source": [
    "tensor_A, tensor_B, tensor_C"
   ]
  },
  {
   "cell_type": "code",
   "execution_count": 56,
   "id": "30e3f109-b505-4e32-bc09-042956384bfe",
   "metadata": {},
   "outputs": [
    {
     "data": {
      "text/plain": [
       "tensor([[ 31,  36,  20],\n",
       "        [ 67,  78,  47],\n",
       "        [103, 120,  74]])"
      ]
     },
     "execution_count": 56,
     "metadata": {},
     "output_type": "execute_result"
    }
   ],
   "source": [
    "torch.matmul(tensor_A, tensor_C)"
   ]
  },
  {
   "cell_type": "code",
   "execution_count": 57,
   "id": "5af3b656-acdd-4cf4-906f-192ecd4adc48",
   "metadata": {},
   "outputs": [
    {
     "data": {
      "text/plain": [
       "tensor([[ 42,  32,  22],\n",
       "        [ 93,  71,  49],\n",
       "        [144, 110,  76]])"
      ]
     },
     "execution_count": 57,
     "metadata": {},
     "output_type": "execute_result"
    }
   ],
   "source": [
    "torch.matmul(tensor_A, tensor_B.T) #T is Transpose which chanege the dimension of the tensor"
   ]
  },
  {
   "cell_type": "code",
   "execution_count": 58,
   "id": "88eee209-7d94-4fb0-b5f4-6c3f0a15fe85",
   "metadata": {},
   "outputs": [],
   "source": [
    "#Tensor Aggregation"
   ]
  },
  {
   "cell_type": "code",
   "execution_count": 59,
   "id": "b58713aa-91d4-40da-8631-23c50d4df977",
   "metadata": {},
   "outputs": [
    {
     "data": {
      "text/plain": [
       "tensor([ 0,  2,  4,  6,  8, 10, 12, 14, 16, 18])"
      ]
     },
     "execution_count": 59,
     "metadata": {},
     "output_type": "execute_result"
    }
   ],
   "source": [
    "new_tensor=torch.arange(0,20,2)\n",
    "new_tensor"
   ]
  },
  {
   "cell_type": "code",
   "execution_count": 60,
   "id": "c1d72278-7181-4971-830c-700d4ea67009",
   "metadata": {},
   "outputs": [
    {
     "data": {
      "text/plain": [
       "tensor(0)"
      ]
     },
     "execution_count": 60,
     "metadata": {},
     "output_type": "execute_result"
    }
   ],
   "source": [
    "torch.min(new_tensor)"
   ]
  },
  {
   "cell_type": "code",
   "execution_count": 61,
   "id": "cfd9677b-9fad-483b-97ed-5a4d98d0310b",
   "metadata": {},
   "outputs": [
    {
     "data": {
      "text/plain": [
       "tensor(18)"
      ]
     },
     "execution_count": 61,
     "metadata": {},
     "output_type": "execute_result"
    }
   ],
   "source": [
    "torch.max(new_tensor)"
   ]
  },
  {
   "cell_type": "code",
   "execution_count": 62,
   "id": "b0d0b886-62c4-40c4-83ff-8db7ba01fd30",
   "metadata": {},
   "outputs": [
    {
     "data": {
      "text/plain": [
       "tensor(90)"
      ]
     },
     "execution_count": 62,
     "metadata": {},
     "output_type": "execute_result"
    }
   ],
   "source": [
    "torch.sum(new_tensor)"
   ]
  },
  {
   "cell_type": "code",
   "execution_count": 63,
   "id": "4eabe4a0-85c6-4b5d-9550-6816fef5f408",
   "metadata": {},
   "outputs": [
    {
     "name": "stdout",
     "output_type": "stream",
     "text": [
      "<class 'torch.Tensor'>\n"
     ]
    }
   ],
   "source": [
    "print(type(new_tensor))"
   ]
  },
  {
   "cell_type": "code",
   "execution_count": 64,
   "id": "f0e778ca-c1f4-41d2-88fc-49c436c510ea",
   "metadata": {},
   "outputs": [
    {
     "data": {
      "text/plain": [
       "tensor(9.)"
      ]
     },
     "execution_count": 64,
     "metadata": {},
     "output_type": "execute_result"
    }
   ],
   "source": [
    "torch.mean(new_tensor.type(torch.float32))"
   ]
  },
  {
   "cell_type": "code",
   "execution_count": 65,
   "id": "60652505-dc3c-4ae3-9477-7650334f2e17",
   "metadata": {},
   "outputs": [
    {
     "data": {
      "text/plain": [
       "tensor(0)"
      ]
     },
     "execution_count": 65,
     "metadata": {},
     "output_type": "execute_result"
    }
   ],
   "source": [
    "torch.argmin(new_tensor)"
   ]
  },
  {
   "cell_type": "code",
   "execution_count": 66,
   "id": "c84f95ee-a6e3-4f05-93b6-015924d3ef93",
   "metadata": {},
   "outputs": [
    {
     "data": {
      "text/plain": [
       "tensor(9)"
      ]
     },
     "execution_count": 66,
     "metadata": {},
     "output_type": "execute_result"
    }
   ],
   "source": [
    "torch.argmax(new_tensor)"
   ]
  },
  {
   "cell_type": "code",
   "execution_count": 67,
   "id": "c5b4daec-5c3c-40de-9c8a-7884ced9c223",
   "metadata": {},
   "outputs": [],
   "source": [
    "#Reshaping"
   ]
  },
  {
   "cell_type": "code",
   "execution_count": 68,
   "id": "db27c00c-abb7-4f78-9994-7479f628b925",
   "metadata": {},
   "outputs": [
    {
     "data": {
      "text/plain": [
       "(tensor([ 1,  2,  3,  4,  5,  6,  7,  8,  9, 10]), torch.Size([10]))"
      ]
     },
     "execution_count": 68,
     "metadata": {},
     "output_type": "execute_result"
    }
   ],
   "source": [
    "x=torch.arange(1,11)\n",
    "x, x.shape"
   ]
  },
  {
   "cell_type": "code",
   "execution_count": 69,
   "id": "810060d4-da7a-48fe-8ac5-a144d2a7f782",
   "metadata": {},
   "outputs": [
    {
     "data": {
      "text/plain": [
       "tensor([[ 1],\n",
       "        [ 2],\n",
       "        [ 3],\n",
       "        [ 4],\n",
       "        [ 5],\n",
       "        [ 6],\n",
       "        [ 7],\n",
       "        [ 8],\n",
       "        [ 9],\n",
       "        [10]])"
      ]
     },
     "execution_count": 69,
     "metadata": {},
     "output_type": "execute_result"
    }
   ],
   "source": [
    "y_reshape=x.reshape(10,1)\n",
    "y_reshape"
   ]
  },
  {
   "cell_type": "code",
   "execution_count": 70,
   "id": "deaa2449-9d30-4a73-b57c-5cd59e57b428",
   "metadata": {},
   "outputs": [
    {
     "data": {
      "text/plain": [
       "tensor([[ 1,  2,  3,  4,  5,  6,  7,  8,  9, 10]])"
      ]
     },
     "execution_count": 70,
     "metadata": {},
     "output_type": "execute_result"
    }
   ],
   "source": [
    "z_reshape=x.reshape(1,10)\n",
    "z_reshape"
   ]
  },
  {
   "cell_type": "code",
   "execution_count": 71,
   "id": "59ac394c-3b29-4ba2-9baa-686a18976884",
   "metadata": {},
   "outputs": [
    {
     "data": {
      "text/plain": [
       "tensor([6])"
      ]
     },
     "execution_count": 71,
     "metadata": {},
     "output_type": "execute_result"
    }
   ],
   "source": [
    "z_reshape[:,5]"
   ]
  },
  {
   "cell_type": "code",
   "execution_count": 72,
   "id": "da593e36-0e43-4dc3-b4dc-3c3ee9e1a8e4",
   "metadata": {},
   "outputs": [
    {
     "data": {
      "text/plain": [
       "tensor([[ 1,  2,  3,  4,  5,  6,  7,  8,  9, 10]])"
      ]
     },
     "execution_count": 72,
     "metadata": {},
     "output_type": "execute_result"
    }
   ],
   "source": [
    "z_reshape"
   ]
  },
  {
   "cell_type": "code",
   "execution_count": 73,
   "id": "d4d43b81-e624-4325-9468-974afc9dd66b",
   "metadata": {},
   "outputs": [
    {
     "data": {
      "text/plain": [
       "tensor([[ 1,  2,  3,  4,  5],\n",
       "        [ 6,  7,  8,  9, 10]])"
      ]
     },
     "execution_count": 73,
     "metadata": {},
     "output_type": "execute_result"
    }
   ],
   "source": [
    "a_reshape=x.reshape(2,5)\n",
    "a_reshape"
   ]
  },
  {
   "cell_type": "code",
   "execution_count": 74,
   "id": "d789af7a-fe56-4307-b83b-67a706786cc0",
   "metadata": {},
   "outputs": [
    {
     "data": {
      "text/plain": [
       "tensor([[ 1,  2],\n",
       "        [ 3,  4],\n",
       "        [ 5,  6],\n",
       "        [ 7,  8],\n",
       "        [ 9, 10]])"
      ]
     },
     "execution_count": 74,
     "metadata": {},
     "output_type": "execute_result"
    }
   ],
   "source": [
    "b_reshape=x.reshape(5,2)\n",
    "b_reshape"
   ]
  },
  {
   "cell_type": "code",
   "execution_count": 75,
   "id": "0ea7bdce-9e05-4b82-96cc-8fbd7cf3c518",
   "metadata": {},
   "outputs": [],
   "source": [
    "#View"
   ]
  },
  {
   "cell_type": "code",
   "execution_count": 76,
   "id": "70a02845-36d3-426a-bf55-b6fd0b2a4acf",
   "metadata": {},
   "outputs": [
    {
     "data": {
      "text/plain": [
       "tensor([ 0,  1,  2,  3,  4,  5,  6,  7,  8,  9, 10, 11])"
      ]
     },
     "execution_count": 76,
     "metadata": {},
     "output_type": "execute_result"
    }
   ],
   "source": [
    "a=torch.arange(0,12)\n",
    "a"
   ]
  },
  {
   "cell_type": "code",
   "execution_count": 81,
   "id": "8ea6cbb4-4cf3-4919-be9e-789d4fbb3e12",
   "metadata": {},
   "outputs": [
    {
     "data": {
      "text/plain": [
       "tensor([[ 0,  1,  2,  3,  4,  5,  6,  7,  8,  9, 10, 11]])"
      ]
     },
     "execution_count": 81,
     "metadata": {},
     "output_type": "execute_result"
    }
   ],
   "source": [
    "b=a.view(1,12)\n",
    "b"
   ]
  },
  {
   "cell_type": "code",
   "execution_count": 84,
   "id": "f0785d19-142b-4074-8ebe-f45e451a67ab",
   "metadata": {},
   "outputs": [
    {
     "data": {
      "text/plain": [
       "tensor([[ 0,  1, 25,  3,  4,  5,  6,  7,  8,  9, 10, 11]])"
      ]
     },
     "execution_count": 84,
     "metadata": {},
     "output_type": "execute_result"
    }
   ],
   "source": [
    "b[:,2]=25\n",
    "b"
   ]
  },
  {
   "cell_type": "code",
   "execution_count": 85,
   "id": "aac80b66-8365-4019-a5b8-09cde0fd0b8c",
   "metadata": {},
   "outputs": [
    {
     "data": {
      "text/plain": [
       "tensor([ 0,  1, 25,  3,  4,  5,  6,  7,  8,  9, 10, 11])"
      ]
     },
     "execution_count": 85,
     "metadata": {},
     "output_type": "execute_result"
    }
   ],
   "source": [
    "a"
   ]
  },
  {
   "cell_type": "code",
   "execution_count": 86,
   "id": "23836c86-52d3-486e-96ae-70bd8be11890",
   "metadata": {},
   "outputs": [
    {
     "data": {
      "text/plain": [
       "tensor([[ 0,  1, 25,  3,  4,  5,  6,  7,  8,  9, 10, 11]])"
      ]
     },
     "execution_count": 86,
     "metadata": {},
     "output_type": "execute_result"
    }
   ],
   "source": [
    "b"
   ]
  },
  {
   "cell_type": "code",
   "execution_count": 87,
   "id": "e8d06cd3-2613-4c11-b68a-d601a680b174",
   "metadata": {},
   "outputs": [
    {
     "data": {
      "text/plain": [
       "tensor([[ 0],\n",
       "        [ 1],\n",
       "        [25],\n",
       "        [ 3],\n",
       "        [ 4],\n",
       "        [ 5],\n",
       "        [ 6],\n",
       "        [ 7],\n",
       "        [ 8],\n",
       "        [ 9],\n",
       "        [10],\n",
       "        [11]])"
      ]
     },
     "execution_count": 87,
     "metadata": {},
     "output_type": "execute_result"
    }
   ],
   "source": [
    "b.T"
   ]
  },
  {
   "cell_type": "code",
   "execution_count": 88,
   "id": "c01e2ad7-04d4-46ac-bda3-4ac977de67fb",
   "metadata": {},
   "outputs": [
    {
     "data": {
      "text/plain": [
       "tensor([[ 0,  1, 25,  3],\n",
       "        [ 4,  5,  6,  7],\n",
       "        [ 8,  9, 10, 11]])"
      ]
     },
     "execution_count": 88,
     "metadata": {},
     "output_type": "execute_result"
    }
   ],
   "source": [
    "b.reshape(3,4)"
   ]
  },
  {
   "cell_type": "code",
   "execution_count": 90,
   "id": "9bbe4ded-9f7a-45aa-8090-407bd6b16091",
   "metadata": {},
   "outputs": [
    {
     "data": {
      "text/plain": [
       "tensor([ 0,  1,  2,  3,  4,  5,  6,  7,  8,  9, 10, 11])"
      ]
     },
     "execution_count": 90,
     "metadata": {},
     "output_type": "execute_result"
    }
   ],
   "source": [
    "c=torch.arange(0,12)\n",
    "c"
   ]
  },
  {
   "cell_type": "code",
   "execution_count": 94,
   "id": "ef649c21-cfb1-467d-9b19-d391f586c5bb",
   "metadata": {},
   "outputs": [
    {
     "data": {
      "text/plain": [
       "tensor([[ 0,  1,  2,  3,  4,  5,  6,  7,  8,  9, 10, 11],\n",
       "        [ 0,  1,  2,  3,  4,  5,  6,  7,  8,  9, 10, 11],\n",
       "        [ 0,  1,  2,  3,  4,  5,  6,  7,  8,  9, 10, 11],\n",
       "        [ 0,  1,  2,  3,  4,  5,  6,  7,  8,  9, 10, 11]])"
      ]
     },
     "execution_count": 94,
     "metadata": {},
     "output_type": "execute_result"
    }
   ],
   "source": [
    "c_stack=torch.stack([c,c,c,c],dim=0)\n",
    "c_stack"
   ]
  },
  {
   "cell_type": "code",
   "execution_count": 95,
   "id": "6c4151b5-7840-4782-b49f-b7b1ccebefd9",
   "metadata": {},
   "outputs": [
    {
     "data": {
      "text/plain": [
       "tensor([[ 0,  0,  0,  0],\n",
       "        [ 1,  1,  1,  1],\n",
       "        [ 2,  2,  2,  2],\n",
       "        [ 3,  3,  3,  3],\n",
       "        [ 4,  4,  4,  4],\n",
       "        [ 5,  5,  5,  5],\n",
       "        [ 6,  6,  6,  6],\n",
       "        [ 7,  7,  7,  7],\n",
       "        [ 8,  8,  8,  8],\n",
       "        [ 9,  9,  9,  9],\n",
       "        [10, 10, 10, 10],\n",
       "        [11, 11, 11, 11]])"
      ]
     },
     "execution_count": 95,
     "metadata": {},
     "output_type": "execute_result"
    }
   ],
   "source": [
    "c_stack=torch.stack([c,c,c,c],dim=1)\n",
    "c_stack"
   ]
  }
 ],
 "metadata": {
  "kernelspec": {
   "display_name": "Python 3 (ipykernel)",
   "language": "python",
   "name": "python3"
  },
  "language_info": {
   "codemirror_mode": {
    "name": "ipython",
    "version": 3
   },
   "file_extension": ".py",
   "mimetype": "text/x-python",
   "name": "python",
   "nbconvert_exporter": "python",
   "pygments_lexer": "ipython3",
   "version": "3.13.1"
  }
 },
 "nbformat": 4,
 "nbformat_minor": 5
}
